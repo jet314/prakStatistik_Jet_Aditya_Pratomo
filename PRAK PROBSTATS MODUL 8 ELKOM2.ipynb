{
 "cells": [
  {
   "cell_type": "code",
   "execution_count": 2,
   "id": "c094a25a",
   "metadata": {},
   "outputs": [
    {
     "name": "stdout",
     "output_type": "stream",
     "text": [
      "Chi-Square Statistic: 18.366532937961512\n",
      "P-value: 0.001046273329595159\n",
      "Degrees of Freedom: 4\n",
      "Expected Frequencies:\n",
      "[[ 7.54 10.15 11.31]\n",
      " [ 9.36 12.6  14.04]\n",
      " [ 9.1  12.25 13.65]]\n",
      "Tolak H0: Terdapat hubungan antara pendapatan dan mutu bahan makanan.\n"
     ]
    }
   ],
   "source": [
    "import numpy as np\n",
    "from scipy.stats import chi2_contingency\n",
    "\n",
    "# Data dari tabel\n",
    "data = np.array([\n",
    "    [14, 6, 9],\n",
    "    [10, 16, 10],\n",
    "    [2, 13, 20]\n",
    "])\n",
    "\n",
    "# Menghitung chi-kuadrat\n",
    "chi2, p, dof, expected = chi2_contingency(data)\n",
    "\n",
    "# Menampilkan hasil\n",
    "print(f\"Chi-Square Statistic: {chi2}\")\n",
    "print(f\"P-value: {p}\")\n",
    "print(f\"Degrees of Freedom: {dof}\")\n",
    "print(\"Expected Frequencies:\")\n",
    "print(expected)\n",
    "\n",
    "# Menentukan keputusan\n",
    "alpha = 0.01\n",
    "if p < alpha:\n",
    "    print(\"Tolak H0: Terdapat hubungan antara pendapatan dan mutu bahan makanan.\")\n",
    "else:\n",
    "    print(\"Gagal Tolak H0: Tidak terdapat hubungan antara pendapatan dan mutu bahan makanan.\")\n"
   ]
  },
  {
   "cell_type": "code",
   "execution_count": 3,
   "id": "5781d7e8",
   "metadata": {},
   "outputs": [
    {
     "name": "stdout",
     "output_type": "stream",
     "text": [
      "Statistik Uji Kolmogorov-Smirnov: 0.18719291305040942\n",
      "p-value: 0.6043842954060732\n",
      "Data berdistribusi normal (gagal menolak H0)\n"
     ]
    }
   ],
   "source": [
    "import numpy as np\n",
    "from scipy import stats\n",
    "\n",
    "# Data sampel nilai dari 15 mahasiswa\n",
    "data = [8, 11, 12, 22, 24, 25, 33, 34, 34, 43, 45, 45, 67, 67, 99]\n",
    "\n",
    "# Melakukan Uji Kolmogorov-Smirnov\n",
    "stat, p_value = stats.kstest(data, 'norm', args=(np.mean(data), np.std(data, ddof=1)))\n",
    "\n",
    "print(\"Statistik Uji Kolmogorov-Smirnov:\", stat)\n",
    "print(\"p-value:\", p_value)\n",
    "\n",
    "# Menentukan apakah data berdistribusi normal atau tidak\n",
    "alpha = 0.05\n",
    "if p_value > alpha:\n",
    "    print(\"Data berdistribusi normal (gagal menolak H0)\")\n",
    "else:\n",
    "    print(\"Data tidak berdistribusi normal (menolak H0)\")\n",
    "\n"
   ]
  },
  {
   "cell_type": "code",
   "execution_count": null,
   "id": "efef73f1",
   "metadata": {},
   "outputs": [],
   "source": []
  }
 ],
 "metadata": {
  "kernelspec": {
   "display_name": "Python 3 (ipykernel)",
   "language": "python",
   "name": "python3"
  },
  "language_info": {
   "codemirror_mode": {
    "name": "ipython",
    "version": 3
   },
   "file_extension": ".py",
   "mimetype": "text/x-python",
   "name": "python",
   "nbconvert_exporter": "python",
   "pygments_lexer": "ipython3",
   "version": "3.11.5"
  }
 },
 "nbformat": 4,
 "nbformat_minor": 5
}
