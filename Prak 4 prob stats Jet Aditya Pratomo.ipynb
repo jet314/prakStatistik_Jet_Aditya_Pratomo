{
 "cells": [
  {
   "cell_type": "code",
   "execution_count": 1,
   "id": "c877266b",
   "metadata": {},
   "outputs": [
    {
     "name": "stdout",
     "output_type": "stream",
     "text": [
      "Probabilitas P(X=k) untuk distribusi binomial: 630.0\n"
     ]
    }
   ],
   "source": [
    "import math\n",
    "\n",
    "# Fungsi untuk menghitung kombinasi (n choose K)\n",
    "def n_choose_k(n, k):\n",
    "    return math. factorial(n) / (math. factorial(k) * math. factorial(n - k))\n",
    "\n",
    "# Fungsi untuk menghitung probabilitas P(X=k) dalam distribusi binomial\n",
    "def binomial_probability(n, k, p):\n",
    "    return n_choose_k(n, k) * (p * k) * ((1 - p) * (n - k))\n",
    "\n",
    "# Parameter distribusi binomial\n",
    "n = 10 # jumlah percobaan\n",
    "p = 0.5 # probabilitas keberhasilan dalam satu percobaan\n",
    "k = 3 # jumlah keberhasilan yang diinginkan\n",
    "\n",
    "# Menghitung probabilitas P(X=k) untuk distribust binomia?\n",
    "prob_binomial = binomial_probability(n, k, p)\n",
    "print( \"Probabilitas P(X=k) untuk distribusi binomial:\", prob_binomial)"
   ]
  },
  {
   "cell_type": "code",
   "execution_count": 4,
   "id": "45faff94",
   "metadata": {},
   "outputs": [
    {
     "name": "stdout",
     "output_type": "stream",
     "text": [
      "Probabilitas P(X=k) untuk distribusi binomial: 0.1171875\n"
     ]
    }
   ],
   "source": [
    "from scipy.stats import binom\n",
    "\n",
    "# Distribusi Binomial\n",
    "n = 10 # jumlah percobaan\n",
    "p = 0.5 # probabilitas keberhasilan dalam satu percobaan\n",
    "k = 3 # jumlah keberhasilan yang diinginkan\n",
    "\n",
    "prob_binomial = binom.pmf(k, n, p)\n",
    "print(\"Probabilitas P(X=k) untuk distribusi binomial:\", prob_binomial)"
   ]
  },
  {
   "cell_type": "code",
   "execution_count": 5,
   "id": "6c69dbb3",
   "metadata": {},
   "outputs": [
    {
     "name": "stdout",
     "output_type": "stream",
     "text": [
      "Probabilitas P(X=k) untuk distribusi Poisson: 0.22404180765538775\n"
     ]
    }
   ],
   "source": [
    "import math\n",
    "\n",
    "# Fungs'i untuk menghitung probabilitas P(X=k) dalam distribusi Poisson\n",
    "def poisson_probability(lambd, k):\n",
    "    return (lambd ** k) * math. exp(-lambd) / math. factorial(k)\n",
    "\n",
    "# Parameter distribusi Poisson\n",
    "lambd = 3 # rata-rata jumlah peristiwa dalam interval waktu/titik\n",
    "k=2 # jumtah peristiwa yang dtinginkan\n",
    "\n",
    "# Menghitung probabilitas P/X-kJ untuk distribusi Poisson\n",
    "prob_poisson = poisson_probability( lambd, k)\n",
    "print( \"Probabilitas P(X=k) untuk distribusi Poisson:\", prob_poisson)"
   ]
  },
  {
   "cell_type": "code",
   "execution_count": 7,
   "id": "b08ae135",
   "metadata": {},
   "outputs": [
    {
     "name": "stdout",
     "output_type": "stream",
     "text": [
      "Probabilitas P(X=k) untuk distribusi Poisson: 0.22404180765538775\n"
     ]
    }
   ],
   "source": [
    "from scipy.stats import poisson\n",
    "\n",
    "# Distribusi Poisson\n",
    "Lambd = 3 # rata-rata juntah peristiva dalam interval waktu/titik\n",
    "k = 2  #juntah peristiva yang dainginkan\n",
    "\n",
    "prob_poisson = poisson.pmf(k, Lambd)\n",
    "print( \"Probabilitas P(X=k) untuk distribusi Poisson:\", prob_poisson)"
   ]
  },
  {
   "cell_type": "code",
   "execution_count": 8,
   "id": "fabfa683",
   "metadata": {},
   "outputs": [
    {
     "name": "stdout",
     "output_type": "stream",
     "text": [
      "0.1285054390988551\n"
     ]
    }
   ],
   "source": [
    "from scipy import stats \n",
    "X = stats.binom(15, 0.1)\n",
    "print(X.pmf(3))    # P(X=3)"
   ]
  },
  {
   "cell_type": "code",
   "execution_count": 9,
   "id": "0fba9cb2",
   "metadata": {},
   "outputs": [
    {
     "name": "stdout",
     "output_type": "stream",
     "text": [
      "0.8159389308936089\n"
     ]
    }
   ],
   "source": [
    "print(X.cdf(2))   #P(X <= 2)"
   ]
  },
  {
   "cell_type": "code",
   "execution_count": 10,
   "id": "50793ea6",
   "metadata": {},
   "outputs": [
    {
     "name": "stdout",
     "output_type": "stream",
     "text": [
      "0.002216045197080002\n"
     ]
    }
   ],
   "source": [
    "print(X.pmf(6)+X.pmf(7))"
   ]
  },
  {
   "cell_type": "code",
   "execution_count": 11,
   "id": "d2445a3a",
   "metadata": {},
   "outputs": [
    {
     "name": "stdout",
     "output_type": "stream",
     "text": [
      "0.17546736976785063\n"
     ]
    }
   ],
   "source": [
    "from scipy import stats\n",
    "Y = stats.poisson(5)\n",
    "print(Y.pmf(4))"
   ]
  },
  {
   "cell_type": "code",
   "execution_count": 13,
   "id": "bee1e68a",
   "metadata": {},
   "outputs": [
    {
     "name": "stdout",
     "output_type": "stream",
     "text": [
      "0.17886305056987967\n"
     ]
    }
   ],
   "source": [
    "from scipy import stats\n",
    "# Mendefinisikan variabel X sebagal distribusa\n",
    "\n",
    "# binomial dengan 15 percobaan dan probabilitas sukses 0.1\n",
    "X = stats.binom (20, 0.7)\n",
    "\n",
    "# Menghitung probabilitas massa X sama dengan 3\n",
    "pmf_15 = X.pmf (15)\n",
    "\n",
    "# Mencetak nilai probabilitas\n",
    "print (pmf_15)"
   ]
  },
  {
   "cell_type": "code",
   "execution_count": 14,
   "id": "e020968f",
   "metadata": {},
   "outputs": [
    {
     "name": "stdout",
     "output_type": "stream",
     "text": [
      "0.18044704431548356\n"
     ]
    }
   ],
   "source": [
    "from scipy import stats\n",
    "Y = stats.poisson(2)\n",
    "print(Y.pmf(3))"
   ]
  },
  {
   "cell_type": "code",
   "execution_count": 15,
   "id": "6778fe47",
   "metadata": {},
   "outputs": [
    {
     "name": "stdout",
     "output_type": "stream",
     "text": [
      "0.20613038097752093\n"
     ]
    }
   ],
   "source": [
    "from scipy import stats \n",
    "X = stats.binom(15, 0.3)\n",
    "print(X.pmf(5)) "
   ]
  },
  {
   "cell_type": "code",
   "execution_count": null,
   "id": "37ee62d4",
   "metadata": {},
   "outputs": [],
   "source": []
  }
 ],
 "metadata": {
  "kernelspec": {
   "display_name": "Python 3 (ipykernel)",
   "language": "python",
   "name": "python3"
  },
  "language_info": {
   "codemirror_mode": {
    "name": "ipython",
    "version": 3
   },
   "file_extension": ".py",
   "mimetype": "text/x-python",
   "name": "python",
   "nbconvert_exporter": "python",
   "pygments_lexer": "ipython3",
   "version": "3.11.5"
  }
 },
 "nbformat": 4,
 "nbformat_minor": 5
}
