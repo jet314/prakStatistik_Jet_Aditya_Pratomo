{
 "cells": [
  {
   "cell_type": "code",
   "execution_count": 1,
   "id": "8e14349d",
   "metadata": {},
   "outputs": [
    {
     "name": "stdout",
     "output_type": "stream",
     "text": [
      "Nilai F: 4.846087862380136\n",
      "Nilai p: 0.0159099583256229\n"
     ]
    }
   ],
   "source": [
    "import numpy as np\n",
    "import scipy.stats as stats\n",
    "\n",
    "# Data waktu produksi dari ketiga mesin\n",
    "plant_a = np.array([4.17, 5.58, 5.18, 6.11, 4.50, 4.61, 5.17, 4.53, 5.33, 5.14])\n",
    "plant_b = np.array([4.81, 4.17, 4.41, 3.59, 5.87, 3.83, 6.03, 4.89, 4.32, 4.69])\n",
    "plant_c = np.array([6.31, 5.12, 5.54, 5.50, 5.37, 5.29, 4.92, 6.15, 5.80, 5.26])\n",
    "\n",
    "# Gabungkan data ke dalam satu array\n",
    "data_jet = [plant_a, plant_b, plant_c]\n",
    "\n",
    "# Hitung ANOVA menggunakan scipy.stats\n",
    "f_statistic, p_value = stats.f_oneway(plant_a, plant_b, plant_c)\n",
    "\n",
    "# Tampilkan hasil\n",
    "print(f\"Nilai F: {f_statistic}\")\n",
    "print(f\"Nilai p: {p_value}\")\n"
   ]
  },
  {
   "cell_type": "code",
   "execution_count": null,
   "id": "eddc21a4",
   "metadata": {},
   "outputs": [],
   "source": []
  }
 ],
 "metadata": {
  "kernelspec": {
   "display_name": "Python 3 (ipykernel)",
   "language": "python",
   "name": "python3"
  },
  "language_info": {
   "codemirror_mode": {
    "name": "ipython",
    "version": 3
   },
   "file_extension": ".py",
   "mimetype": "text/x-python",
   "name": "python",
   "nbconvert_exporter": "python",
   "pygments_lexer": "ipython3",
   "version": "3.11.5"
  }
 },
 "nbformat": 4,
 "nbformat_minor": 5
}
