{
 "cells": [
  {
   "cell_type": "code",
   "execution_count": 1,
   "id": "4ae386f8",
   "metadata": {},
   "outputs": [
    {
     "name": "stdout",
     "output_type": "stream",
     "text": [
      "Nilai intercept (b0): -1.3360360360360382\n",
      "Nilai slope (b1): 2.501501501501502\n",
      "Nilai R-squared: 0.7303718018754822\n",
      "Nilai p-value: 0.0068687088349557324\n",
      "Std Error: 0.6204914457580246\n"
     ]
    }
   ],
   "source": [
    "import numpy as np\n",
    "from scipy import stats\n",
    "\n",
    "# Data\n",
    "X = np.array([2.8, 2.5, 3.5, 3.1, 3.0, 3.8, 3.3, 3.5])\n",
    "Y = np.array([5.4, 5.1, 7.2, 6.2, 6.0, 7.5, 6.8, 8.9])\n",
    "\n",
    "# Menghitung nilai slope (b1) dan intercept (b0) menggunakan scipy.stats.linregress\n",
    "slope, intercept, r_value, p_value, std_err = stats.linregress(X, Y)\n",
    "\n",
    "# Menampilkan hasil\n",
    "print(f\"Nilai intercept (b0): {intercept}\")\n",
    "print(f\"Nilai slope (b1): {slope}\")\n",
    "print(f\"Nilai R-squared: {r_value**2}\")\n",
    "print(f\"Nilai p-value: {p_value}\")\n",
    "print(f\"Std Error: {std_err}\")\n"
   ]
  },
  {
   "cell_type": "code",
   "execution_count": null,
   "id": "f87025d4",
   "metadata": {},
   "outputs": [],
   "source": []
  }
 ],
 "metadata": {
  "kernelspec": {
   "display_name": "Python 3 (ipykernel)",
   "language": "python",
   "name": "python3"
  },
  "language_info": {
   "codemirror_mode": {
    "name": "ipython",
    "version": 3
   },
   "file_extension": ".py",
   "mimetype": "text/x-python",
   "name": "python",
   "nbconvert_exporter": "python",
   "pygments_lexer": "ipython3",
   "version": "3.11.5"
  }
 },
 "nbformat": 4,
 "nbformat_minor": 5
}
