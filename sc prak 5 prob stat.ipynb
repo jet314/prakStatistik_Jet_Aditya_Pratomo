{
 "cells": [
  {
   "cell_type": "code",
   "execution_count": 4,
   "id": "f5c17ff0",
   "metadata": {},
   "outputs": [
    {
     "name": "stdout",
     "output_type": "stream",
     "text": [
      "Probabilitas tinggi kurang dari 189 cm: 0.8413447460685429\n"
     ]
    }
   ],
   "source": [
    "from scipy.stats import norm\n",
    "\n",
    "# Menentukan rata-rata dan standar deviasi\n",
    "mean = 184 # rata-rata\n",
    "std_dev = 5 # standar deviasi\n",
    "\n",
    "# Menghitung probabilitas tinggi kurang dari 189 cm\n",
    "height = 189\n",
    "prob_less_than_189 = norm. cdf (height, mean, std_dev)\n",
    "\n",
    "# Menampilkan hasil\n",
    "print(\"Probabilitas tinggi kurang dari 189 cm:\", prob_less_than_189)"
   ]
  },
  {
   "cell_type": "code",
   "execution_count": 10,
   "id": "aa56c466",
   "metadata": {},
   "outputs": [
    {
     "name": "stdout",
     "output_type": "stream",
     "text": [
      "Probabilitas tinggi antara 174 cm dan 199 cm: 0.9758999700201907\n"
     ]
    }
   ],
   "source": [
    "from scipy.stats import norm\n",
    "\n",
    "# Menentukan rata-rata dan standar deviasi \n",
    "mean = 184 # rata-rata\n",
    "std_dev = 5 # standar deviasi\n",
    "\n",
    "# Menghitung probabilitas tinggi kurang dari 174 cm\n",
    "prob_less_than_174 = norm.cdf (174, mean, std_dev)\n",
    "\n",
    "# Menghitung probabilitas tinggi kurang dari 199 cm\n",
    "prob_less_than_199 = norm.cdf (199, mean, std_dev)\n",
    "\n",
    "# Kemungkinan antara 174 cm dan 199 cm adalah selisih antara probabilitas kurang dari 199 dan kurang dari 174\n",
    "prob_between_174_and_199 = prob_less_than_199 - prob_less_than_174\n",
    "\n",
    "# Menampilkan hasil\n",
    "print(\"Probabilitas tinggi antara 174 cm dan 199 cm:\", prob_between_174_and_199)"
   ]
  },
  {
   "cell_type": "code",
   "execution_count": 12,
   "id": "8c3bdb9a",
   "metadata": {},
   "outputs": [
    {
     "name": "stdout",
     "output_type": "stream",
     "text": [
      "Peluang apel yang berkualitas 'not good': 0.0595\n"
     ]
    }
   ],
   "source": [
    "from scipy.stats import norm\n",
    "\n",
    "# Menentukan rata-rata dan standar deviasi\n",
    "mean = 173 # rata-rata\n",
    "std_dev = 34 # standar deviasi\n",
    "\n",
    "# Menghitung probabilitas apel berkualitas \"not good\" (berat kurang dari 120 gram)\n",
    "prob_not_good = norm.cdf(120, mean, std_dev)\n",
    "\n",
    "# Menampilkan hasil\n",
    "print(\"Peluang apel yang berkualitas 'not good': {:.4f}\".format(prob_not_good))"
   ]
  },
  {
   "cell_type": "code",
   "execution_count": 13,
   "id": "f398918d",
   "metadata": {},
   "outputs": [
    {
     "name": "stdout",
     "output_type": "stream",
     "text": [
      "Rata-rata jumlah pelanggan dalam sistem (L): 4.00\n",
      "Rata-rata waktu setiap pelanggan berada dalam sistem (W): 40.00\n"
     ]
    }
   ],
   "source": [
    "# Definisi laju kedatangan dan laju pelayanan \n",
    "arrival_rate = 1/10 # pelanggan per menit\n",
    "service_rate = 1/8 # pelanggan per. menit\n",
    "\n",
    "# Menghitung rata-rata jumlah pelanggan dalam sistem (L)\n",
    "L = arrival_rate / (service_rate - arrival_rate)\n",
    "\n",
    "# Menghitung rata-rata waktu setiap pelanggan berada dalam sistem (W) \n",
    "W = L / arrival_rate\n",
    "\n",
    "# Menampilkan hasil\n",
    "print (\"Rata-rata jumlah pelanggan dalam sistem (L): {:.2f}\". format (L))\n",
    "print (\"Rata-rata waktu setiap pelanggan berada dalam sistem (W): {:.2f}\".format(W))"
   ]
  },
  {
   "cell_type": "code",
   "execution_count": 14,
   "id": "9053b0b9",
   "metadata": {},
   "outputs": [
    {
     "name": "stdout",
     "output_type": "stream",
     "text": [
      "Peluang seseorang dilayani antara 3 sampai 5 menit: 0.1618974\n"
     ]
    }
   ],
   "source": [
    "from scipy.stats import expon\n",
    "\n",
    "# Rerata waktu pelayanan- (mu)\n",
    "mean_service_time = 7 # menit\n",
    "\n",
    "# Menghitung peluang seseorang dilayani antara 3 sampai 5 menit\n",
    "prob_between_3_and_5 = expon.cdf (5, scale=mean_service_time) - expon.cdf(3, scale=mean_service_time)\n",
    "\n",
    "# Menampilkan hasil\n",
    "print (\"Peluang seseorang dilayani antara 3 sampai 5 menit: {:.7f}\".format(prob_between_3_and_5))"
   ]
  },
  {
   "cell_type": "code",
   "execution_count": 19,
   "id": "90274582",
   "metadata": {},
   "outputs": [
    {
     "name": "stdout",
     "output_type": "stream",
     "text": [
      "Peluang lebih dari 6 pelanggan akan tiba dalam periode 2 menit berikutnya: 0.8698586\n"
     ]
    }
   ],
   "source": [
    "from scipy.stats import poisson\n",
    "\n",
    "# Rata-rata pelangean per menit (A)\n",
    "mean_arrival_rate = 5\n",
    "\n",
    "# Menghitung peluang lebih dari 6 pelanggan tiba dalam periode 2 menit\n",
    "prob_more_than_6_arrivals = 1 - poisson.cdf(6, mu=mean_arrival_rate * 2)\n",
    "\n",
    "# Menampilkan hasil\n",
    "print(\"Peluang lebih dari 6 pelanggan akan tiba dalam periode 2 menit berikutnya: {:.7f}\".format(prob_more_than_6_arrivals))\n"
   ]
  },
  {
   "cell_type": "code",
   "execution_count": 21,
   "id": "aa359443",
   "metadata": {},
   "outputs": [
    {
     "name": "stdout",
     "output_type": "stream",
     "text": [
      "Tinggi sedemikian rupa sehingga 16,85% pemain basket lebih tinggi dari 188.80 cm\n"
     ]
    }
   ],
   "source": [
    "from scipy.stats import norm\n",
    "\n",
    "# Menentukan rata-rata dan standar deviasi\n",
    "mean = 184 # rata-rata\n",
    "std_dev = 5 # standar deviasi\n",
    "\n",
    "# Probabilitas tinggi lebih tinggi dari tinggi tertentu\n",
    "prob_more_than = 1 - 0.1685\n",
    "\n",
    "# Menggunakan fungsi quantile untuk menemukan tinggi yang sesuai\n",
    "height = norm.ppf (prob_more_than, mean, std_dev)\n",
    "\n",
    "# Menampilkan hasil\n",
    "print(\"Tinggi sedemikian rupa sehingga 16,85% pemain basket lebih tinggi dari {:.2f} cm\".format (height) )"
   ]
  },
  {
   "cell_type": "code",
   "execution_count": 23,
   "id": "5422c303",
   "metadata": {},
   "outputs": [
    {
     "name": "stdout",
     "output_type": "stream",
     "text": [
      "Probabilitas kurang dari atau sama dengan 2 apel berkualitas 'not good': 0.9903771\n"
     ]
    }
   ],
   "source": [
    "from scipy.stats import binom\n",
    "\n",
    "# Menentukan parameter distribusi binomial\n",
    "n = 8 # total jumlah apel\n",
    "p = 0.06 # probabilitas apel berkualitas \"not good\"\n",
    "\n",
    "# Menghitung probabilitas jumlah apel berkualitas \"not good\" kurang dari atau sama dengan 2\n",
    "prob_not_good_2_or_less = binom.cdf(2, n, p)\n",
    "\n",
    "# Menampilkan hasil\n",
    "print(\"Probabilitas kurang dari atau sama dengan 2 apel berkualitas 'not good': {:.7f}\".format (prob_not_good_2_or_less))"
   ]
  },
  {
   "cell_type": "code",
   "execution_count": 24,
   "id": "ffe62e1a",
   "metadata": {},
   "outputs": [
    {
     "name": "stdout",
     "output_type": "stream",
     "text": [
      "Rata-rata jumlah pelanggan dalam sistem (L) setelah perubahan: 1.00\n",
      "Rata-rata waktu setiap pelanggan berada dalam sistem (W) setelah perubahan: 16.00\n"
     ]
    }
   ],
   "source": [
    "# Definisi laju kedatangan dan laju pelayanan\n",
    "arrival_rate_new = 1/16 # pelanggan per menit\n",
    "\n",
    "# Menghitung ulang rata-rata jumlah pelanggan dalam sistem (L)\n",
    "L_new = arrival_rate_new / (service_rate - arrival_rate_new)\n",
    "\n",
    "# Menghitung ulang rata-rata waktu setiap pelanggan berada dalam sistem (W)\n",
    "W_new = L_new / arrival_rate_new\n",
    "\n",
    "# Menampilkan hasil\n",
    "print (\"Rata-rata jumlah pelanggan dalam sistem (L) setelah perubahan: {:.2f}\".format(L_new)) \n",
    "print (\"Rata-rata waktu setiap pelanggan berada dalam sistem (W) setelah perubahan: {:.2f}\".format (W_new))"
   ]
  },
  {
   "cell_type": "code",
   "execution_count": 25,
   "id": "b00d6bad",
   "metadata": {},
   "outputs": [
    {
     "name": "stdout",
     "output_type": "stream",
     "text": [
      "Peluang seseorang mendapatkan pelayanan lebih dari & menit: 0.3189066\n"
     ]
    }
   ],
   "source": [
    "from scipy.stats import expon\n",
    "\n",
    "# Rerata waktu pelayanan (mu)\n",
    "mean_service_time = 7 # menit\n",
    "\n",
    "# Menghitung peluang seseorang mendapatkan pelayanan lebih dari 8 menit\n",
    "prob_more_than_8_minutes = 1 - expon.cdf(8, scale=mean_service_time)\n",
    "\n",
    "# Menampilkan hasil\n",
    "print (\"Peluang seseorang mendapatkan pelayanan lebih dari & menit: {:.7f}\".format(prob_more_than_8_minutes))"
   ]
  },
  {
   "cell_type": "code",
   "execution_count": 26,
   "id": "c6754dbd",
   "metadata": {},
   "outputs": [
    {
     "name": "stdout",
     "output_type": "stream",
     "text": [
      "Peluang bahwa dalam 1 menit berikutnya terdapat tepat 4 pelanggan yang akan datang: 0.1754674\n"
     ]
    }
   ],
   "source": [
    "from scipy.stats import poisson\n",
    "\n",
    "# Rata-rata pelanggan per menit (X)\n",
    "mean_arrival_rate = 5\n",
    "\n",
    "# Menghitung peluang tepat 4 pelanggan akan datang dalam 1 menit\n",
    "prob_4_arrivals = poisson.pmf (4, mu=mean_arrival_rate)\n",
    "\n",
    "# Menampilkan hasil\n",
    "print (\"Peluang bahwa dalam 1 menit berikutnya terdapat tepat 4 pelanggan yang akan datang: {:.7f}\".format(prob_4_arrivals))"
   ]
  },
  {
   "cell_type": "code",
   "execution_count": 27,
   "id": "a3100f9b",
   "metadata": {},
   "outputs": [
    {
     "name": "stdout",
     "output_type": "stream",
     "text": [
      "Rata-rata jumlah kedatangan selama periode 1 jam:  300.000000\n"
     ]
    }
   ],
   "source": [
    "# Rata-rata pelanggan per menit (A)\n",
    "mean_arrival_rate = 5\n",
    "\n",
    "# Menghitung rata-rata jumlah kedatangan selama periode 1 jam\n",
    "mean_arrivals_per_hour = mean_arrival_rate * 60 # 60 menit dalam satu jam\n",
    "\n",
    "# Menampilkan hasil\n",
    "print(\"Rata-rata jumlah kedatangan selama periode 1 jam: {: 2f}\".format(mean_arrivals_per_hour))"
   ]
  },
  {
   "cell_type": "code",
   "execution_count": null,
   "id": "a2f10867",
   "metadata": {},
   "outputs": [],
   "source": []
  }
 ],
 "metadata": {
  "kernelspec": {
   "display_name": "Python 3 (ipykernel)",
   "language": "python",
   "name": "python3"
  },
  "language_info": {
   "codemirror_mode": {
    "name": "ipython",
    "version": 3
   },
   "file_extension": ".py",
   "mimetype": "text/x-python",
   "name": "python",
   "nbconvert_exporter": "python",
   "pygments_lexer": "ipython3",
   "version": "3.11.5"
  }
 },
 "nbformat": 4,
 "nbformat_minor": 5
}
